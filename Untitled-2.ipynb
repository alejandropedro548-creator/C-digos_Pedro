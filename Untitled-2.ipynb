{
 "cells": [
  {
   "cell_type": "markdown",
   "id": "ec9aa031",
   "metadata": {},
   "source": [
    "### Minha Playlist"
   ]
  },
  {
   "cell_type": "code",
   "execution_count": null,
   "id": "84219f5b",
   "metadata": {},
   "outputs": [],
   "source": []
  }
 ],
 "metadata": {
  "language_info": {
   "name": "python"
  }
 },
 "nbformat": 4,
 "nbformat_minor": 5
}
